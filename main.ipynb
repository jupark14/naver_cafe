{
 "cells": [
  {
   "cell_type": "code",
   "execution_count": null,
   "metadata": {},
   "outputs": [],
   "source": [
    "from selenium import webdriver\n",
    "from selenium.webdriver.common.keys import Keys\n",
    "driver = webdriver.Chrome(r'C:\\Webdriver\\chromedriver.exe')\n",
    "driver.get('http://mail.naver.com')\n",
    "elem_id = driver.find_element_by_xpath('//*[@id=\"id\"]')\n",
    "elem_pw = driver.find_element_by_xpath('//*[@id=\"pw\"]')\n",
    "elem_loginBtn = driver.find_element_by_xpath('//*[@id=\"log.login\"]')\n",
    "myID = \"***\"\n",
    "pw = \"***\"\n",
    "driver.execute_script(\"document.getElementsByName('id')[0].value=\\'\" + myID + \"\\'\")\n",
    "driver.execute_script(\"document.getElementsByName('pw')[0].value=\\'\" + pw + \"\\'\")\n",
    "elem_loginBtn.click()"
   ]
  },
  {
   "cell_type": "code",
   "execution_count": 1,
   "metadata": {
    "ExecuteTime": {
     "end_time": "2020-08-22T12:16:08.184707Z",
     "start_time": "2020-08-22T12:16:08.178855Z"
    }
   },
   "outputs": [
    {
     "name": "stdout",
     "output_type": "stream",
     "text": [
      "added for testing\n"
     ]
    }
   ],
   "source": [
    "print('added for testing')"
   ]
  },
  {
   "cell_type": "code",
   "execution_count": null,
   "metadata": {},
   "outputs": [],
   "source": []
  }
 ],
 "metadata": {
  "kernelspec": {
   "display_name": "Python 3",
   "language": "python",
   "name": "python3"
  },
  "language_info": {
   "codemirror_mode": {
    "name": "ipython",
    "version": 3
   },
   "file_extension": ".py",
   "mimetype": "text/x-python",
   "name": "python",
   "nbconvert_exporter": "python",
   "pygments_lexer": "ipython3",
   "version": "3.8.3"
  },
  "toc": {
   "base_numbering": 1,
   "nav_menu": {},
   "number_sections": true,
   "sideBar": true,
   "skip_h1_title": false,
   "title_cell": "Table of Contents",
   "title_sidebar": "Contents",
   "toc_cell": false,
   "toc_position": {},
   "toc_section_display": true,
   "toc_window_display": false
  }
 },
 "nbformat": 4,
 "nbformat_minor": 4
}
